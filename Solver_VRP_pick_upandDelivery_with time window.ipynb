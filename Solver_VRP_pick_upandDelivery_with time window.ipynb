{
 "cells": [
  {
   "cell_type": "code",
   "execution_count": 1,
   "metadata": {},
   "outputs": [],
   "source": [
    "import pandas\n",
    "import timeit\n",
    "import datetime\n",
    "import math\n",
    "from docplex.mp.model import Model\n",
    "from docplex.util.environment import get_environment\n",
    "from collections import defaultdict\n",
    "start = timeit.default_timer()\n",
    "delivery_info=pandas.read_csv(\"~~~/testdata.csv\")"
   ]
  },
  {
   "cell_type": "code",
   "execution_count": 2,
   "metadata": {},
   "outputs": [],
   "source": [
    "datetimeFormat = '%m/%d/%Y %H:%M'\n",
    "max_delay=440\n",
    "max_delivery_delay=2700\n",
    "min_time=datetime.datetime.strptime(delivery_info.iloc[0]['created_at'], datetimeFormat).timestamp()"
   ]
  },
  {
   "cell_type": "code",
   "execution_count": 3,
   "metadata": {},
   "outputs": [],
   "source": [
    "from math import radians, cos, sin, asin, sqrt\n",
    "def haversine(lat1, lon1, lat2, lon2):\n",
    "    \"\"\"\n",
    "    Calculate the great circle distance between two points \n",
    "    on the earth (specified in decimal degrees)\n",
    "    \"\"\"\n",
    "    # convert decimal degrees to radians \n",
    "    lon1, lat1, lon2, lat2 = map(radians, [lon1, lat1, lon2, lat2])\n",
    "\n",
    "    # haversine formula \n",
    "    dlon = lon2 - lon1 \n",
    "    dlat = lat2 - lat1 \n",
    "    a = sin(dlat/2)**2 + cos(lat1) * cos(lat2) * sin(dlon/2)**2\n",
    "    c = 2 * asin(sqrt(a)) \n",
    "    r = 6371 # Radius of earth in kilometers. Use 3956 for miles\n",
    "    return c*r"
   ]
  },
  {
   "cell_type": "code",
   "execution_count": 4,
   "metadata": {},
   "outputs": [],
   "source": [
    "def get_travel_seconds(lat1, lon1, lat2, lon2):\n",
    "    return haversine(lat1, lon1, lat2, lon2)*1000/4.5"
   ]
  },
  {
   "cell_type": "code",
   "execution_count": 5,
   "metadata": {},
   "outputs": [],
   "source": [
    "def calculate_travel_time (data_frame):\n",
    "    travel_time={}\n",
    "    for i in range (0, len(data_frame)):\n",
    "        for j in range (0, len(data_frame)):\n",
    "            if i==0 or i==j:\n",
    "                travel_time[(i,j)]=0\n",
    "            else:\n",
    "                lat1=data_frame.iloc[i]['lat']\n",
    "                lon1=data_frame.iloc[i]['long']\n",
    "                lat2=data_frame.iloc[j]['lat']\n",
    "                lon2=data_frame.iloc[j]['long']\n",
    "                travel_time[(i,j)] = get_travel_seconds(lat1, lon1, lat2, lon2) #travel time in seconds\n",
    "    return travel_time\n",
    "    "
   ]
  },
  {
   "cell_type": "code",
   "execution_count": 6,
   "metadata": {},
   "outputs": [],
   "source": [
    "def input_data_optimization(region):\n",
    "    pickup_node=region[['delivery_id','pickup_lat','pickup_long','food_ready_time','created_at']]\n",
    "    dropOff_node=region[['delivery_id','dropoff_lat','dropoff_long']]\n",
    "    all_nodes=pandas.DataFrame()\n",
    "    all_nodes2=pandas.DataFrame()\n",
    "    all_nodes[['lat', 'long']]=pickup_node[['pickup_lat','pickup_long']]\n",
    "    all_nodes2[['lat', 'long']]=dropOff_node[['dropoff_lat','dropoff_long']]\n",
    "    all_nodes=all_nodes.append(all_nodes2,ignore_index=True)\n",
    "    origin=pandas.DataFrame({'lat':0, 'long':0}, index=[0])\n",
    "    destination=pandas.DataFrame({'lat':0, 'long':0}, index=[0])\n",
    "    all_nodes=pandas.concat([origin, all_nodes,destination],ignore_index=True)\n",
    "    time={}\n",
    "    time=calculate_travel_time (all_nodes)\n",
    "    return pickup_node,dropOff_node,all_nodes,time "
   ]
  },
  {
   "cell_type": "code",
   "execution_count": 7,
   "metadata": {},
   "outputs": [],
   "source": [
    "# time={}\n",
    "# pickup_node,dropOff_node,all_nodes,time=input_data_optimization(region)"
   ]
  },
  {
   "cell_type": "markdown",
   "metadata": {},
   "source": [
    "Optimization Model Summary"
   ]
  },
  {
   "cell_type": "markdown",
   "metadata": {},
   "source": [
    "Decision variables: A formulation for the pickup and delivery problem with time windows, based on a modeling strategy that allows the assignment of vehicles to routes explicitly in two-index flow formulations. \n",
    "x_ij be a binary variable equal to 1 if and only if dasher travels an arcs i,j. \n",
    "B_i variables decides the time at which vehicle begins service at node i"
   ]
  },
  {
   "attachments": {
    "image.png": {
     "image/png": "[encoded data removed]"
    }
   },
   "cell_type": "markdown",
   "metadata": {},
   "source": [
    "An additional variable (v_i ) is used to identify the routes by storing the index of the first node that is visited in the route. Hence, pickup and delivery nodes for the same request must have the same identifier (i.e.,the same stored index).![image.png](attachment:image.png) Above figure illustrates the values of the variables v_i using an example with three requests. Nodes 1, 2 and 3 are the pickup locations of delivery nodes 4, 5 and 6, respectively. Two routes are used to service the requests. The first route starts visiting node 1, and hence, vi = 1 for all nodes i in this route (v1 = v4 = 1). Similarly, the second route starts visiting node 2, and hence, we have vi = 2 for all nodes in the route (v2 = v3 = v5 = v6 = 2). Note that all routes share the same origin and destination depot;"
   ]
  },
  {
   "cell_type": "markdown",
   "metadata": {},
   "source": [
    "The objective function minimizes the total routing cost "
   ]
  },
  {
   "cell_type": "markdown",
   "metadata": {},
   "source": [
    "This optimization model has following set of constratints: "
   ]
  },
  {
   "cell_type": "markdown",
   "metadata": {},
   "source": [
    "Constraints that guarantee that each pickup-delivery node is visited exactly once;Constraints that gurantee that dasher can't pick delivery until food ready time; The precedence and pairing relations constraints; Constraints guarantee that there are no subtours in the solutions; trivial variable fixations constraints are added, to speed up the running times. Basically this constraints eliminate invalid assignments "
   ]
  },
  {
   "cell_type": "code",
   "execution_count": null,
   "metadata": {},
   "outputs": [],
   "source": []
  },
  {
   "cell_type": "code",
   "execution_count": 8,
   "metadata": {},
   "outputs": [],
   "source": [
    "def build_model (pickup_node,dropOff_node,all_nodes,time, region): \n",
    "#     time={}\n",
    "#     pickup_node,dropOff_node,all_nodes,time=input_data_optimization(region)\n",
    "    datetimeFormat = '%m/%d/%Y %H:%M'\n",
    "    bigM=999999999999\n",
    "    planning_time=9000\n",
    "    node_range=range(0,len(all_nodes))\n",
    "    tm = Model(name='VRP')\n",
    "    x = tm.binary_var_matrix(node_range,node_range, name=\"X\") # 1= vehicle  visit arc i,j;\n",
    "    B = {(i):tm.continuous_var(name='B_{0}'.format(i)) for i in node_range} # visiting time of node i \n",
    "    V = {(i):tm.continuous_var(name='V_{0}'.format(i)) for i in node_range} #decision variable that is equal to the index of the first node in the route that visits\n",
    "    n=len(region) #total number of pickup/drop-off location\n",
    "    \n",
    "    #The objective function minimizes the total routing cost \n",
    "    total_delivery_duration=tm.sum(x[i,j]*time[i,j] for i in node_range for j in node_range)\n",
    "    tm.minimize(total_delivery_duration)\n",
    "    \n",
    "    #Writing constraints that guarantee that each pickup-delivery node is visited exactly once  \n",
    "    for i in range(1,len(all_nodes)-1):\n",
    "        tm.add_constraint(tm.sum(x[i,j] for j in node_range)==1)\n",
    "    for j in range(1,len(all_nodes)-1):\n",
    "        tm.add_constraint(tm.sum(x[i,j] for i in node_range)==1)\n",
    "        \n",
    "    #constraints that gurantee that dasher can't pick delivery until food ready time and needs to pick up within a time horizon\n",
    "    for i in node_range:\n",
    "        for j in node_range:\n",
    "            if(i!=j):\n",
    "                tm.add_constraint(B[j]>=B[i]+time[i,j]*x[i,j]-bigM*(1-x[i,j]))\n",
    "                \n",
    "                \n",
    "    for i in range(1,len(pickup_node)+1):\n",
    "        tm.add_constraint(B[i]>=datetime.datetime.strptime(pickup_node.iloc[i-1]['food_ready_time'],datetimeFormat).timestamp()\\\n",
    "                          -min_time)\n",
    "        tm.add_constraint(B[i]<=datetime.datetime.strptime(pickup_node.iloc[i-1]['food_ready_time'],datetimeFormat).timestamp()\\\n",
    "                          +max_delay-min_time)\n",
    "        tm.add_constraint(B[i+n]<=datetime.datetime.strptime(pickup_node.iloc[i-1]['food_ready_time'],\\\n",
    "                                                             datetimeFormat).timestamp()+max_delivery_delay-min_time)\n",
    "        tm.add_constraint(B[i+n]>=B[i]+time[i,i+n])\n",
    "        tm.add_constraint(B[i+n]<=planning_time)\n",
    "        \n",
    "    #To ensure that paired pickup and delivery nodes will be in the same route, below constraints are added    \n",
    "    for i in range(1,len(pickup_node)+1):\n",
    "        tm.add_constraint(V[i+n]==V[i])\n",
    "        \n",
    "    #In addition, we must state constraints that guarantee the consistency of the variables v_i in the model.\n",
    "    #To ensure that the route identifier is taken as the index of the first visited node, we use the following two set of constraints.\n",
    "    #If node j ∈ P ∪ D is the first node of a route, we have x_0j = 1 and thus the two corresponding constraints together \n",
    "    #enforce that v_j = j.On the other hand, if j is not the first node of any route, then x_0j = 0 and \n",
    "    #it turns off the corresponding constraints (as together they impose the trivial bounds 0 ≤ v_j ≤ n). \n",
    "    \n",
    "    for j in range(1,len(all_nodes)-1):\n",
    "        tm.add_constraint(V[j]>=j*x[0,j]) \n",
    "        tm.add_constraint(V[j]<=j*x[0,j]-n*(x[0,j]-1))\n",
    "        \n",
    "        \n",
    "    #We also must ensure that the index of the first node is forwarded to the next nodes in the route.We can do so by \n",
    "    #imposing the following two sets of constraints.This way, if there is a route that visits a node i and travels directly\n",
    "    #to a node j,then x_ij = 1 and the corresponding constraints imply that vj = vi. Otherwise, we have x_ij = 0, \n",
    "    #which turns off the corresponding constraints. Note that the variables v_i are implicitly integer due to these \n",
    "    #sets of constraints\n",
    "    for j in range(1,len(all_nodes)-1):\n",
    "        for i in range(1,len(all_nodes)-1):\n",
    "            tm.add_constraint(V[j]>=V[i]+n*(x[i,j]-1))\n",
    "            tm.add_constraint(V[j]<=V[i]+n*(1-x[i,j]))\n",
    "            \n",
    "    #Following trivial variable fixations constraints are added, to speed up the running times. \n",
    "    #Basically this constraints eliminate invalid assignments\n",
    "    for i in node_range:\n",
    "        tm.add_constraint(x[i,i]==0)#no travel within same node\n",
    "        tm.add_constraint(x[i,0]==0) #no travel any node to origin\n",
    "        tm.add_constraint(x[2*n+1,i]==0)#no travel from final depot node to pickup                   \n",
    "\n",
    "    for i in range(1,len(pickup_node)+1):\n",
    "        tm.add_constraint(x[n+i,i]==0) #no travel from delivery to pick up\n",
    "        tm.add_constraint(x[0,n+i]==0) #no travel from origin to delivery\n",
    "        tm.add_constraint(x[i,2*n+1]==0)#no travel from final depot node to pickup\n",
    "\n",
    "    for i in range(1,len(all_nodes)-1):\n",
    "        for j in range(1,len(all_nodes)-1):\n",
    "            if(i!=j):\n",
    "                if(i<=n and j<=n): #invalid assignment from pick to pickup\n",
    "                    if(datetime.datetime.strptime(pickup_node.iloc[i-1]['food_ready_time'],datetimeFormat).timestamp()-min_time+\\\n",
    "                       time[i,j]<datetime.datetime.strptime(pickup_node.iloc[j-1]['food_ready_time'],\\\n",
    "                                                            datetimeFormat).timestamp()-min_time):\n",
    "                        tm.add_constraint(x[i,j]==0)\n",
    "                    if(datetime.datetime.strptime(pickup_node.iloc[i-1]['food_ready_time'],datetimeFormat).timestamp()-min_time+\\\n",
    "                       time[i,j]>datetime.datetime.strptime(pickup_node.iloc[j-1]['food_ready_time'],\\\n",
    "                                                            datetimeFormat).timestamp()-min_time+max_delay):\n",
    "                        tm.add_constraint(x[i,j]==0)\n",
    "\n",
    "                if(i<=n and j>n): #invalid assignment from pickup to delivery\n",
    "\n",
    "                    if(datetime.datetime.strptime(pickup_node.iloc[i-1]['food_ready_time'],datetimeFormat).timestamp()-min_time+\\\n",
    "                       time[i,j]>datetime.datetime.strptime(pickup_node.iloc[j-n-1]['food_ready_time'],\\\n",
    "                                                            datetimeFormat).timestamp()-min_time+max_delivery_delay):\n",
    "                        tm.add_constraint(x[i,j]==0)\n",
    "\n",
    "                if(i>n and j>n): #invalid assignment from pickup to delivery\n",
    "                    if(datetime.datetime.strptime(pickup_node.iloc[i-n-1]['food_ready_time'],datetimeFormat).timestamp()-min_time\\\n",
    "                       +max_delivery_delay+\n",
    "                       time[i,j]>datetime.datetime.strptime(pickup_node.iloc[j-n-1]['food_ready_time'],\\\n",
    "                                                            datetimeFormat).timestamp()-min_time+max_delivery_delay):\n",
    "                        tm.add_constraint(x[i,j]==0)\n",
    "\n",
    "                if(i>n and j<=n): #invalid assignment from delivery to pickup\n",
    "                    if(datetime.datetime.strptime(pickup_node.iloc[i-n-1]['food_ready_time'],datetimeFormat).timestamp()-min_time\\\n",
    "                       +max_delivery_delay+\n",
    "                       time[i,j]>datetime.datetime.strptime(pickup_node.iloc[j-1]['food_ready_time'],\\\n",
    "                                                            datetimeFormat).timestamp()-min_time+max_delivery_delay):\n",
    "                        tm.add_constraint(x[i,j]==0)\n",
    "    return tm,x,B,V \n",
    "                        \n",
    "        \n",
    "\n",
    "                "
   ]
  },
  {
   "cell_type": "markdown",
   "metadata": {},
   "source": [
    "Conduting a depth first search to print each route"
   ]
  },
  {
   "cell_type": "code",
   "execution_count": 9,
   "metadata": {},
   "outputs": [],
   "source": [
    "# tm,x,B,V =build_model (pickup_node,dropOff_node,all_nodes,time, region)"
   ]
  },
  {
   "cell_type": "code",
   "execution_count": 10,
   "metadata": {},
   "outputs": [],
   "source": [
    "def recursive_dfs(graph, source,path = []):\n",
    "    if source not in path:\n",
    "        path.append(source)\n",
    "        if source not in graph:# leaf node, backtrack\n",
    "            return path\n",
    "        for neighbour in graph[source]:\n",
    "            path = recursive_dfs(graph, neighbour, path)\n",
    "    return path"
   ]
  },
  {
   "cell_type": "code",
   "execution_count": 11,
   "metadata": {},
   "outputs": [],
   "source": [
    "def run_model(tm,x,B,V, region,benders_parameter, gap): \n",
    "    #tm,x,B,V =build_model (pickup_node,dropOff_node,all_nodes,time, region)\n",
    "    tm.parameters.mip.tolerances.mipgap = gap\n",
    "    tm.parameters.benders.strategy =benders_parameter \n",
    "    tms = tm.solve(log_output=False)\n",
    "    assert tms is not None, \"model can't solve\"\n",
    "    \n",
    "    graph = defaultdict(list)\n",
    "    source_node=[]\n",
    "    for i in range (len(region)+len(region)+2):\n",
    "        for j in range (len(region)+len(region)+2):\n",
    "            if(x[i,j].solution_value>.4):\n",
    "                graph[i].append(j)\n",
    "                if(i==0):\n",
    "                    source_node.append(j)\n",
    "\n",
    "    output=pandas.DataFrame()\n",
    "    pandas.options.display.float_format = '{:.2f}'.format\n",
    "    count=0\n",
    "    route_time=[]\n",
    "    for i in source_node:\n",
    "        path = recursive_dfs(graph, i)\n",
    "        route_time.append(B[path[-2]].solution_value-B[i].solution_value)\n",
    "        count2=0\n",
    "        for j in path:\n",
    "            if j<=len(region):\n",
    "                s='Pickup'\n",
    "                index=j\n",
    "            else:\n",
    "                s='DropOff'\n",
    "            if(j<2*len(region)+1):\n",
    "                output=output.append(pandas.DataFrame({\"Route ID\":count, \"Route Point Index\":count2,\n",
    "                                                   \"Delivery ID\":region['delivery_id'].iloc[index-1],\n",
    "                                                             \"Route Point Type\":s,\n",
    "                                                               \"Route Point Time\":B[j].solution_value+min_time\n",
    "                                                  },index=[0]),ignore_index=True)\n",
    "                count2=count2+1\n",
    "        path.clear()\n",
    "        count=count+1   \n",
    "    total_delivery_duration=0\n",
    "    for i in range(1,len(region)+1):\n",
    "        total_delivery_duration=total_delivery_duration+B[i+len(region)].solution_value- (datetime.datetime.strptime(region.iloc[i-1]['created_at'],datetimeFormat).timestamp()-min_time)\n",
    "\n",
    "    Average_delivery_duration=total_delivery_duration/(len(region))/60\n",
    "    time_delay_factor_unix_to_UTC=25200\n",
    "    output['Route Point Time']=output['Route Point Time']-time_delay_factor_unix_to_UTC\n",
    "    \n",
    "    return output,Average_delivery_duration, route_time"
   ]
  },
  {
   "cell_type": "code",
   "execution_count": 12,
   "metadata": {},
   "outputs": [],
   "source": [
    "# output,Average_delivery_duration=run_model(tm,x,B,V, region,0, .8)"
   ]
  },
  {
   "cell_type": "code",
   "execution_count": null,
   "metadata": {},
   "outputs": [],
   "source": []
  },
  {
   "cell_type": "code",
   "execution_count": 13,
   "metadata": {},
   "outputs": [
    {
     "name": "stdout",
     "output_type": "stream",
     "text": [
      "Preparing input data\n",
      "41.804422270960664 4.134146978584694\n",
      "Time:  149.63661240000002\n"
     ]
    }
   ],
   "source": [
    "if __name__ == '__main__':\n",
    "    start = timeit.default_timer()\n",
    "    #Solving separate optimiztion problem for each region and combined the results to generate final output \n",
    "    region1=delivery_info[delivery_info.region_id==9] #82, 70, 9\n",
    "    region2=delivery_info[delivery_info.region_id==70] #82, 70, 9\n",
    "    region3=delivery_info[delivery_info.region_id==82] #82, 70, 9\n",
    "    print(\"Preparing input data\")\n",
    "    \n",
    "    #solve region1:\n",
    "    output1=pandas.DataFrame()\n",
    "    benders_parameter=0\n",
    "    sol_gap=.8\n",
    "    time={}\n",
    "    pickup_node,dropOff_node,all_nodes,time=input_data_optimization(region1)\n",
    "    tm,x,B,V =build_model (pickup_node,dropOff_node,all_nodes,time, region1)\n",
    "    output1,Average_delivery_duration_1,route_time_1=run_model(tm,x,B,V, region1,benders_parameter, sol_gap)\n",
    "    last_path_id=output1['Route ID'].iloc[len(output1)-1]\n",
    "    \n",
    "    #solve region2:\n",
    "    time={}\n",
    "    benders_parameter=3\n",
    "    sol_gap=.8286\n",
    "    output2=pandas.DataFrame()\n",
    "    pickup_node,dropOff_node,all_nodes,time=input_data_optimization(region2)\n",
    "    tm,x,B,V =build_model (pickup_node,dropOff_node,all_nodes,time, region2)\n",
    "    output2,Average_delivery_duration_2,route_time_2=run_model(tm,x,B,V, region2,benders_parameter, sol_gap)\n",
    "    output2['Route ID']=output2['Route ID']+last_path_id\n",
    "    last_path_id=output2['Route ID'].iloc[len(output2)-1]\n",
    "    \n",
    "    \n",
    "    #solve region3:\n",
    "    time={}\n",
    "    benders_parameter=3\n",
    "    sol_gap=.9332\n",
    "    output3=pandas.DataFrame()\n",
    "    pickup_node,dropOff_node,all_nodes,time=input_data_optimization(region3)\n",
    "    tm,x,B,V =build_model (pickup_node,dropOff_node,all_nodes,time, region3)\n",
    "    output3,Average_delivery_duration_3,route_time_3=run_model(tm,x,B,V, region3,benders_parameter, sol_gap)\n",
    "    output3['Route ID']=output3['Route ID']+last_path_id\n",
    "    \n",
    "    #merge all output \n",
    "    output=pandas.DataFrame()\n",
    "    output=pandas.concat([output1, output2,output3],ignore_index=True)\n",
    "    #calculate service level: aveage delivery duration \n",
    "    average_delivery_duration=(Average_delivery_duration_1*len(region1)+Average_delivery_duration_2*len(region2)+\\\n",
    "                              Average_delivery_duration_3*len(region3))/len(delivery_info)\n",
    "    \n",
    "    #calculated average deliveries per hour\n",
    "    Sum=(sum(route_time_1)+sum(route_time_2)+sum(route_time_3))/3600 #total hour of each path \n",
    "    average_deliveries_per_hour=len(delivery_info)/Sum\n",
    "    \n",
    "    print(average_delivery_duration,average_deliveries_per_hour)\n",
    "    stop = timeit.default_timer()\n",
    "    print('Time: ', stop - start)\n",
    "    output.to_csv('C:/Users/RONIMS/Documents/FY-21/MSC/DoorDash/Ops Research Scientist/output.csv', index=False)"
   ]
  }
 ],
 "metadata": {
  "kernelspec": {
   "display_name": "Python 3 (ipykernel)",
   "language": "python",
   "name": "python3"
  },
  "language_info": {
   "codemirror_mode": {
    "name": "ipython",
    "version": 3
   },
   "file_extension": ".py",
   "mimetype": "text/x-python",
   "name": "python",
   "nbconvert_exporter": "python",
   "pygments_lexer": "ipython3",
   "version": "3.9.13"
  },
  "latex_envs": {
   "LaTeX_envs_menu_present": true,
   "autoclose": false,
   "autocomplete": true,
   "bibliofile": "biblio.bib",
   "cite_by": "apalike",
   "current_citInitial": 1,
   "eqLabelWithNumbers": true,
   "eqNumInitial": 1,
   "hotkeys": {
    "equation": "Ctrl-E",
    "itemize": "Ctrl-I"
   },
   "labels_anchors": false,
   "latex_user_defs": false,
   "report_style_numbering": false,
   "user_envs_cfg": false
  },
  "widgets": {
   "application/vnd.jupyter.widget-state+json": {
    "state": {},
    "version_major": 2,
    "version_minor": 0
   }
  }
 },
 "nbformat": 4,
 "nbformat_minor": 2
}
